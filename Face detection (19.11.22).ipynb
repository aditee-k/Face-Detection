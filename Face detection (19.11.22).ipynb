{
 "cells": [
  {
   "cell_type": "code",
   "execution_count": 1,
   "id": "0c6310c2",
   "metadata": {},
   "outputs": [
    {
     "name": "stdout",
     "output_type": "stream",
     "text": [
      "Requirement already satisfied: opencv-python in c:\\users\\kiit\\anaconda3\\lib\\site-packages (4.6.0.66)\n",
      "Requirement already satisfied: numpy>=1.14.5 in c:\\users\\kiit\\anaconda3\\lib\\site-packages (from opencv-python) (1.21.5)\n",
      "Note: you may need to restart the kernel to use updated packages.\n"
     ]
    }
   ],
   "source": [
    "pip install opencv-python"
   ]
  },
  {
   "cell_type": "code",
   "execution_count": 2,
   "id": "73c87cbb",
   "metadata": {},
   "outputs": [],
   "source": [
    "import cv2"
   ]
  },
  {
   "cell_type": "code",
   "execution_count": 3,
   "id": "5ad34970",
   "metadata": {},
   "outputs": [],
   "source": [
    "video = cv2.VideoCapture(0)"
   ]
  },
  {
   "cell_type": "code",
   "execution_count": 4,
   "id": "073e2802",
   "metadata": {},
   "outputs": [],
   "source": [
    "def change_resolution():\n",
    "    video.set(3,1920)\n",
    "    video.set(4,1080)\n",
    "change_resolution()"
   ]
  },
  {
   "cell_type": "code",
   "execution_count": 5,
   "id": "f24bc3fd",
   "metadata": {},
   "outputs": [],
   "source": [
    "facedetect = cv2.CascadeClassifier(cv2.data.haarcascades+'haarcascade_frontalface_default.xml')"
   ]
  },
  {
   "cell_type": "code",
   "execution_count": 6,
   "id": "bceb6448",
   "metadata": {},
   "outputs": [],
   "source": [
    "while True:\n",
    "    ret,frame = video.read()\n",
    "    GR_img = cv2.cvtColor(frame, cv2.COLOR_BGR2GRAY)\n",
    "    faces = facedetect.detectMultiScale(GR_img, scaleFactor=1.1)\n",
    "    \n",
    "    for x,y,w,h in faces:\n",
    "        cv2.rectangle(frame, (x,y), (x+w,y+h), (0,255,0))  #(x,y) -> lower end corner\n",
    "    \n",
    "    cv2.imshow(\"Frames\",frame)\n",
    "    \n",
    "    if(cv2.waitKey(1)==ord('x')):\n",
    "        break\n",
    "        \n",
    "video.release() #to clear cache\n",
    "cv2.destroyAllWindows()"
   ]
  },
  {
   "cell_type": "code",
   "execution_count": null,
   "id": "4fee3ab1",
   "metadata": {},
   "outputs": [],
   "source": []
  }
 ],
 "metadata": {
  "kernelspec": {
   "display_name": "Python 3 (ipykernel)",
   "language": "python",
   "name": "python3"
  },
  "language_info": {
   "codemirror_mode": {
    "name": "ipython",
    "version": 3
   },
   "file_extension": ".py",
   "mimetype": "text/x-python",
   "name": "python",
   "nbconvert_exporter": "python",
   "pygments_lexer": "ipython3",
   "version": "3.9.13"
  }
 },
 "nbformat": 4,
 "nbformat_minor": 5
}
